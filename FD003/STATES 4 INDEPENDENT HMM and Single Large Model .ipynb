{
 "cells": [
  {
   "cell_type": "code",
   "execution_count": 1,
   "metadata": {},
   "outputs": [],
   "source": [
    "import torch\n",
    "import torchvision\n",
    "import torchvision.transforms as transforms\n",
    "import torch.nn as nn\n",
    "import torch.nn.functional as F\n",
    "\n",
    "import torch\n",
    "torch.manual_seed(42)  # Set to any fixed integer\n",
    "\n",
    "\n",
    "torch.cuda.manual_seed(42)\n",
    "torch.cuda.manual_seed_all(42)  # If using multiple GPUs\n",
    "import numpy as np\n",
    "np.random.seed(42)\n"
   ]
  },
  {
   "cell_type": "code",
   "execution_count": 2,
   "metadata": {},
   "outputs": [],
   "source": [
    "import torch\n",
    "from torch.distributions.normal import Normal"
   ]
  },
  {
   "cell_type": "code",
   "execution_count": 3,
   "metadata": {},
   "outputs": [
    {
     "name": "stdout",
     "output_type": "stream",
     "text": [
      "cuda:0\n"
     ]
    }
   ],
   "source": [
    "device = torch.device('cuda:0' if torch.cuda.is_available() else 'cpu')\n",
    "\n",
    "# Assuming that we are on a CUDA machine, this should print a CUDA device:\n",
    "\n",
    "print(device)\n",
    "device='cpu'\n",
    "import numpy as np\n",
    "%matplotlib inline\n",
    "import os\n",
    "os.environ[\"KMP_DUPLICATE_LIB_OK\"]=\"TRUE\"\n",
    "\n",
    "\n",
    "import matplotlib.pyplot as plt"
   ]
  },
  {
   "cell_type": "code",
   "execution_count": 4,
   "metadata": {},
   "outputs": [],
   "source": [
    "T_matrix=torch.tensor([[0.9, 0.1, 0.0,0.0],\n",
    "        [0.00, 0.9, 0.1,0],\n",
    "        [0.0, 0.00, 0.9,.1],\n",
    "                      [0.0,0.0,0.0,1]], device=device) "
   ]
  },
  {
   "cell_type": "code",
   "execution_count": 5,
   "metadata": {},
   "outputs": [],
   "source": [
    "T_matrix1=torch.zeros(4,4,4)\n",
    "T_matrix1[0,:,:]=T_matrix+torch.eye(4,4)*-0.0\n",
    "T_matrix1[1,:,:]=T_matrix+torch.eye(4,4)*-0.3\n",
    "T_matrix1[2,:,:]=T_matrix+torch.eye(4,4)*-0.5\n",
    "T_matrix1[3,:,:]=T_matrix+torch.eye(4,4)*-0.7"
   ]
  },
  {
   "cell_type": "code",
   "execution_count": 6,
   "metadata": {},
   "outputs": [],
   "source": [
    "T_matrix1=T_matrix1/torch.sum(T_matrix1, 2).reshape(4,4,1)"
   ]
  },
  {
   "cell_type": "code",
   "execution_count": 7,
   "metadata": {},
   "outputs": [
    {
     "data": {
      "text/plain": [
       "tensor([[[0.9000, 0.1000, 0.0000, 0.0000],\n",
       "         [0.0000, 0.9000, 0.1000, 0.0000],\n",
       "         [0.0000, 0.0000, 0.9000, 0.1000],\n",
       "         [0.0000, 0.0000, 0.0000, 1.0000]],\n",
       "\n",
       "        [[0.8571, 0.1429, 0.0000, 0.0000],\n",
       "         [0.0000, 0.8571, 0.1429, 0.0000],\n",
       "         [0.0000, 0.0000, 0.8571, 0.1429],\n",
       "         [0.0000, 0.0000, 0.0000, 1.0000]],\n",
       "\n",
       "        [[0.8000, 0.2000, 0.0000, 0.0000],\n",
       "         [0.0000, 0.8000, 0.2000, 0.0000],\n",
       "         [0.0000, 0.0000, 0.8000, 0.2000],\n",
       "         [0.0000, 0.0000, 0.0000, 1.0000]],\n",
       "\n",
       "        [[0.6667, 0.3333, 0.0000, 0.0000],\n",
       "         [0.0000, 0.6667, 0.3333, 0.0000],\n",
       "         [0.0000, 0.0000, 0.6667, 0.3333],\n",
       "         [0.0000, 0.0000, 0.0000, 1.0000]]])"
      ]
     },
     "execution_count": 7,
     "metadata": {},
     "output_type": "execute_result"
    }
   ],
   "source": [
    "T_matrix1"
   ]
  },
  {
   "cell_type": "code",
   "execution_count": 8,
   "metadata": {},
   "outputs": [
    {
     "name": "stdout",
     "output_type": "stream",
     "text": [
      "tensor([[0.9000, 0.1000, 0.0000, 0.0000],\n",
      "        [0.0000, 0.9000, 0.1000, 0.0000],\n",
      "        [0.0000, 0.0000, 0.9000, 0.1000],\n",
      "        [0.0000, 0.0000, 0.0000, 1.0000]])\n",
      "tensor([1., 0., 0.])\n"
     ]
    }
   ],
   "source": [
    "\n",
    "s_0=torch.rand(3).to(device)\n",
    "\n",
    "s_0=torch.tensor([1,0,0])\n",
    "s_0=s_0/torch.sum(s_0)\n",
    "\n",
    "O_matrix_mean=torch.tensor([1.5,2.5,3.5,5.5]).to(device)\n",
    "O_matrix_std=torch.tensor([1.1,1.2,1.3,1.4]).to(device)\n",
    "\n",
    "\n",
    "\n",
    "print(T_matrix)\n",
    "\n",
    "print(s_0)"
   ]
  },
  {
   "cell_type": "code",
   "execution_count": 9,
   "metadata": {},
   "outputs": [
    {
     "name": "stdout",
     "output_type": "stream",
     "text": [
      "[1. 1. 1. 1. 1. 1. 1. 1. 1. 1. 1. 1. 1. 1. 1. 1.]\n"
     ]
    }
   ],
   "source": [
    "import numpy as np\n",
    "\n",
    "# Define the joint state space for two units (4 states each)\n",
    "joint_states = [(i, j) for i in range(4) for j in range(4)]\n",
    "num_joint_states = len(joint_states)\n",
    "# Sort the joint states based on the sum of values in each tuple\n",
    "joint_states = sorted(joint_states, key=lambda x: sum(x))\n",
    "# Example: Define a 4x4 joint transition matrix P((s1, s2) -> (s1', s2'))\n",
    "P_joint = np.array([\n",
    "    # Each row corresponds to a joint state, each column to the next joint state\n",
    "    [0.4, 0.2, 0.1, 0.1, 0.05, 0.05, 0.02, 0.02, 0.02, 0.01, 0.01, 0.0, 0.0, 0.0, 0.0, 0.0],  # (0,0) -> various states\n",
    "    [0.3, 0.3, 0.1, 0.1, 0.07, 0.05, 0.03, 0.02, 0.02, 0.02, 0.01, 0.01, 0.0, 0.0, 0.0, 0.0],  # (0,1)\n",
    "    [0.2, 0.2, 0.3, 0.1, 0.05, 0.1, 0.02, 0.02, 0.02, 0.02, 0.03, 0.02, 0.01, 0.01, 0.0, 0.0],  # (0,2)\n",
    "    [0.1, 0.1, 0.2, 0.4, 0.05, 0.05, 0.05, 0.05, 0.02, 0.02, 0.02, 0.02, 0.01, 0.01, 0.0, 0.0],  # (0,3)\n",
    "    [0.3, 0.2, 0.1, 0.1, 0.2, 0.05, 0.02, 0.02, 0.02, 0.02, 0.01, 0.01, 0.0, 0.0, 0.0, 0.0],  # (1,0)\n",
    "    [0.2, 0.2, 0.1, 0.1, 0.3, 0.05, 0.02, 0.02, 0.02, 0.02, 0.01, 0.01, 0.01, 0.01, 0.0, 0.0],  # (1,1)\n",
    "    [0.2, 0.2, 0.1, 0.1, 0.05, 0.4, 0.02, 0.02, 0.02, 0.02, 0.01, 0.01, 0.02, 0.01, 0.0, 0.0],  # (1,2)\n",
    "    [0.1, 0.1, 0.2, 0.3, 0.05, 0.05, 0.2, 0.1, 0.02, 0.02, 0.01, 0.01, 0.01, 0.01, 0.01, 0.0],  # (1,3)\n",
    "    [0.3, 0.1, 0.1, 0.1, 0.05, 0.05, 0.02, 0.02, 0.3, 0.05, 0.05, 0.02, 0.02, 0.02, 0.02, 0.01],  # (2,0)\n",
    "    [0.2, 0.2, 0.1, 0.1, 0.05, 0.05, 0.02, 0.02, 0.1, 0.4, 0.05, 0.02, 0.02, 0.01, 0.01, 0.01],  # (2,1)\n",
    "    [0.1, 0.1, 0.2, 0.2, 0.05, 0.1, 0.02, 0.02, 0.05, 0.05, 0.3, 0.05, 0.02, 0.02, 0.01, 0.01],  # (2,2)\n",
    "    [0.1, 0.1, 0.2, 0.3, 0.05, 0.05, 0.02, 0.02, 0.02, 0.02, 0.1, 0.3, 0.05, 0.05, 0.02, 0.02],  # (2,3)\n",
    "    [0.2, 0.2, 0.1, 0.1, 0.05, 0.05, 0.02, 0.02, 0.02, 0.02, 0.01, 0.01, 0.3, 0.1, 0.05, 0.05],  # (3,0)\n",
    "    [0.1, 0.1, 0.2, 0.2, 0.05, 0.1, 0.02, 0.02, 0.02, 0.02, 0.05, 0.05, 0.1, 0.3, 0.05, 0.1],  # (3,1)\n",
    "    [0.05, 0.05, 0.1, 0.1, 0.05, 0.05, 0.02, 0.02, 0.01, 0.01, 0.01, 0.01, 0.05, 0.1, 0.4, 0.2],  # (3,2)\n",
    "    [0.05, 0.05, 0.1, 0.1, 0.05, 0.05, 0.02, 0.02, 0.02, 0.02, 0.05, 0.05, 0.1, 0.1, 0.2, 0.3],  # (3,3)\n",
    "])\n",
    "\n",
    "# Set lower triangular elements to 0\n",
    "for i in range(16):\n",
    "    for j in range(i):\n",
    "        P_joint[i, j] = 0\n",
    "# Set lower triangular elements to 0\n",
    "for i in range(16):\n",
    "    for j in range(i+5,16):\n",
    "        P_joint[i, j] = 0\n",
    "\n",
    "P_joint=P_joint+np.eye(16,16)*0.5\n",
    "# Normalize each row so the sum of probabilities equals 1\n",
    "P_joint = P_joint / P_joint.sum(axis=1, keepdims=True)\n",
    "\n",
    "# Check if the rows sum to 1\n",
    "row_sums = P_joint.sum(axis=1)\n",
    "print(row_sums)  # Should all be close to 1\n"
   ]
  },
  {
   "cell_type": "code",
   "execution_count": null,
   "metadata": {},
   "outputs": [],
   "source": []
  },
  {
   "cell_type": "code",
   "execution_count": null,
   "metadata": {
    "scrolled": true
   },
   "outputs": [],
   "source": []
  },
  {
   "cell_type": "code",
   "execution_count": null,
   "metadata": {},
   "outputs": [],
   "source": []
  },
  {
   "cell_type": "code",
   "execution_count": null,
   "metadata": {},
   "outputs": [],
   "source": []
  },
  {
   "cell_type": "code",
   "execution_count": null,
   "metadata": {},
   "outputs": [],
   "source": []
  },
  {
   "cell_type": "code",
   "execution_count": null,
   "metadata": {},
   "outputs": [],
   "source": []
  },
  {
   "cell_type": "code",
   "execution_count": 10,
   "metadata": {},
   "outputs": [],
   "source": [
    "\n",
    "# import torch\n",
    "# torch.manual_seed(42)\n",
    "# if torch.cuda.is_available():\n",
    "#     torch.cuda.manual_seed(42)\n",
    "#     torch.cuda.manual_seed_all(42)  # For multi-GPU environments\n"
   ]
  },
  {
   "cell_type": "code",
   "execution_count": 11,
   "metadata": {},
   "outputs": [
    {
     "name": "stderr",
     "output_type": "stream",
     "text": [
      "C:\\Users\\Administrator\\AppData\\Local\\Temp\\ipykernel_8428\\108498054.py:6: FutureWarning: You are using `torch.load` with `weights_only=False` (the current default value), which uses the default pickle module implicitly. It is possible to construct malicious pickle data which will execute arbitrary code during unpickling (See https://github.com/pytorch/pytorch/blob/main/SECURITY.md#untrusted-models for more details). In a future release, the default value for `weights_only` will be flipped to `True`. This limits the functions that could be executed during unpickling. Arbitrary objects will no longer be allowed to be loaded via this mode unless they are explicitly allowlisted by the user via `torch.serialization.add_safe_globals`. We recommend you start setting `weights_only=True` for any use case where you don't have full control of the loaded file. Please open an issue on GitHub for any issues related to this experimental feature.\n",
      "  pred1 = torch.load('TRAIN_DATA_NON_LINEAR.pth')\n"
     ]
    },
    {
     "name": "stdout",
     "output_type": "stream",
     "text": [
      "HMM for 'o': Mean Likelihood = -219.0545368253556, Std = 150.36643298653533, Filtration Error = 0\n",
      "HMM for 'o1': Mean Likelihood = -416.67423625719476, Std = 144.88698520647048, Filtration Error = 0\n",
      "[[10.73323843]\n",
      " [11.77358173]\n",
      " [ 7.55061152]\n",
      " [13.62357044]]\n"
     ]
    }
   ],
   "source": [
    "from hmmlearn import hmm\n",
    "import numpy as np\n",
    "import torch\n",
    "\n",
    "# Load data\n",
    "pred1 = torch.load('TRAIN_DATA_NON_LINEAR.pth')\n",
    "\n",
    "# Extract observations and underlying states\n",
    "observations_o = [o.numpy().reshape(-1, 1) for o, _, _ in pred1]\n",
    "observations_o1 = [o.numpy().reshape(-1, 1) for _, o, _ in pred1]\n",
    "true_states = 0\n",
    "true_states1 = 0\n",
    "\n",
    "# Function to fit HMM, calculate likelihood, and filter states\n",
    "def train_hmm_and_evaluate(observations, n_components=4, covariance_type=\"spherical\", n_iter=10000):\n",
    "    # Flatten the data and create lengths array\n",
    "    lengths = [len(seq) for seq in observations]\n",
    "    X = np.concatenate(observations)\n",
    "\n",
    "    # Initialize and train HMM\n",
    "    model = hmm.GaussianHMM(n_components=n_components, covariance_type=covariance_type, n_iter=n_iter)\n",
    "    model.fit(X, lengths)\n",
    "\n",
    "    # Calculate log-likelihoods\n",
    "    log_likelihoods = [model.score(seq) for seq in observations]\n",
    "    mean_likelihood = np.mean(log_likelihoods)\n",
    "    std_likelihood = np.std(log_likelihoods)\n",
    "\n",
    "    # Filter states\n",
    "    filtered_states = [model.predict(seq) for seq in observations]\n",
    "\n",
    "    return model, mean_likelihood, std_likelihood, filtered_states\n",
    "\n",
    "# Train HMMs for o and o1 observations\n",
    "model_o, mean_likelihood_o, std_likelihood_o, filtered_states_o = train_hmm_and_evaluate(observations_o)\n",
    "model_o1, mean_likelihood_o1, std_likelihood_o1, filtered_states_o1 = train_hmm_and_evaluate(observations_o1)\n",
    "\n",
    "# Calculate state filtration errors\n",
    "def calculate_filtration_error(filtered_states, true_states):\n",
    "    total_errors = 0\n",
    "    total_states = 0\n",
    "    for filtered, true in zip(filtered_states, true_states):\n",
    "        # print(((filtered == true)).shape)\n",
    "        total_errors +=  (np.diag(filtered == true)).sum()\n",
    "        total_states += len(true)\n",
    "        # print(total_states)\n",
    "    return total_errors / total_states\n",
    "\n",
    "error_o = 0\n",
    "error_o1 = 0\n",
    "\n",
    "# Print results\n",
    "print(f\"HMM for 'o': Mean Likelihood = {mean_likelihood_o}, Std = {std_likelihood_o}, Filtration Error = {error_o}\")\n",
    "print(f\"HMM for 'o1': Mean Likelihood = {mean_likelihood_o1}, Std = {std_likelihood_o1}, Filtration Error = {error_o1}\")\n",
    "print(model_o.means_)"
   ]
  },
  {
   "cell_type": "code",
   "execution_count": 12,
   "metadata": {
    "scrolled": true
   },
   "outputs": [],
   "source": [
    "def rearrange_states(filtered_states, hmm_means):\n",
    "    \"\"\"\n",
    "    Rearranges states based on the order of HMM means.\n",
    "    \n",
    "    Args:\n",
    "        filtered_states (list of np.ndarray): List of filtered states.\n",
    "        hmm_means (np.ndarray): The means of the Gaussian HMM components.\n",
    "        \n",
    "    Returns:\n",
    "        list of np.ndarray: Rearranged filtered states.\n",
    "    \"\"\"\n",
    "    # Get the new state order by sorting the means\n",
    "    sorted_indices = np.argsort(hmm_means.flatten())\n",
    "    state_mapping = {old: new for new, old in enumerate(sorted_indices)}\n",
    "\n",
    "    # Rearrange states in the filtered results\n",
    "    rearranged_states = []\n",
    "    for states in filtered_states:\n",
    "        rearranged_states.append(np.vectorize(state_mapping.get)(states))\n",
    "    \n",
    "    return rearranged_states"
   ]
  },
  {
   "cell_type": "code",
   "execution_count": 13,
   "metadata": {},
   "outputs": [
    {
     "name": "stdout",
     "output_type": "stream",
     "text": [
      "(258,)\n",
      "(258,)\n",
      "(258,)\n",
      "(258,)\n",
      "(258,)\n",
      "(258,)\n",
      "(258,)\n",
      "(258,)\n",
      "(258,)\n",
      "(258,)\n",
      "HMM for 'o':\n",
      "Mean Likelihood: -246.38440483489185, Std: 33.471744719364104\n",
      "Mean Filtration Error: 0.0, Std: 0.0\n",
      "Mean Computation Time: 1.7902056694030761s, Std: 0.6475406606992326s\n",
      "\n",
      "HMM for 'o1':\n",
      "Mean Likelihood: -443.93975681827834, Std: 29.426040246329443\n",
      "Mean Filtration Error: 0.0, Std: 0.0\n",
      "Mean Computation Time: 2.161334824562073s, Std: 1.1185740224750202s\n"
     ]
    }
   ],
   "source": [
    "# Repeat training multiple times and collect metrics\n",
    "import time\n",
    "n_repeats = 10\n",
    "results_o = []\n",
    "results_o1 = []\n",
    "time_o = []\n",
    "time_o1 = []\n",
    "\n",
    "for _ in range(n_repeats):\n",
    "    start_time = time.time()\n",
    "    model_o, mean_likelihood_o, std_likelihood_o, filtered_states_o = train_hmm_and_evaluate(observations_o)\n",
    "    hmm_means = model_o.means_\n",
    "    filtered_states_o = rearrange_states(filtered_states_o, hmm_means)\n",
    "    print(filtered_states_o[0].shape)\n",
    "   \n",
    "    elapsed_time = time.time() - start_time\n",
    "    error_o =0\n",
    "    results_o.append((mean_likelihood_o, std_likelihood_o, error_o))\n",
    "    time_o.append(elapsed_time)\n",
    "\n",
    "    start_time = time.time()\n",
    "    model_o1, mean_likelihood_o1, std_likelihood_o1, filtered_states_o1 = train_hmm_and_evaluate(observations_o1)\n",
    "    hmm_means = model_o1.means_\n",
    "    filtered_states_o1 = rearrange_states(filtered_states_o1, hmm_means)\n",
    "    elapsed_time = time.time() - start_time\n",
    "    error_o1 = 0\n",
    "    results_o1.append((mean_likelihood_o1, std_likelihood_o1, error_o1))\n",
    "    time_o1.append(elapsed_time)\n",
    "\n",
    "# Calculate mean and standard deviation for metrics\n",
    "metrics_o = np.array(results_o)\n",
    "metrics_o1 = np.array(results_o1)\n",
    "\n",
    "mean_metrics_o = metrics_o.mean(axis=0)\n",
    "std_metrics_o = metrics_o.std(axis=0)\n",
    "\n",
    "mean_metrics_o1 = metrics_o1.mean(axis=0)\n",
    "std_metrics_o1 = metrics_o1.std(axis=0)\n",
    "\n",
    "# Calculate mean and standard deviation for computation time\n",
    "mean_time_o = np.mean(time_o)\n",
    "std_time_o = np.std(time_o)\n",
    "\n",
    "mean_time_o1 = np.mean(time_o1)\n",
    "std_time_o1 = np.std(time_o1)\n",
    "\n",
    "# Print results\n",
    "print(\"HMM for 'o':\")\n",
    "print(f\"Mean Likelihood: {mean_metrics_o[0]}, Std: {std_metrics_o[0]}\")\n",
    "print(f\"Mean Filtration Error: {mean_metrics_o[2]}, Std: {std_metrics_o[2]}\")\n",
    "print(f\"Mean Computation Time: {mean_time_o}s, Std: {std_time_o}s\\n\")\n",
    "\n",
    "print(\"HMM for 'o1':\")\n",
    "print(f\"Mean Likelihood: {mean_metrics_o1[0]}, Std: {std_metrics_o1[0]}\")\n",
    "print(f\"Mean Filtration Error: {mean_metrics_o1[2]}, Std: {std_metrics_o1[2]}\")\n",
    "print(f\"Mean Computation Time: {mean_time_o1}s, Std: {std_time_o1}s\")"
   ]
  },
  {
   "cell_type": "code",
   "execution_count": 14,
   "metadata": {},
   "outputs": [
    {
     "data": {
      "text/plain": [
       "array([[[0.19267495]],\n",
       "\n",
       "       [[0.21922233]],\n",
       "\n",
       "       [[6.91514773]],\n",
       "\n",
       "       [[1.07354206]]])"
      ]
     },
     "execution_count": 14,
     "metadata": {},
     "output_type": "execute_result"
    }
   ],
   "source": [
    "model_o.covars_"
   ]
  },
  {
   "cell_type": "code",
   "execution_count": 15,
   "metadata": {},
   "outputs": [
    {
     "name": "stdout",
     "output_type": "stream",
     "text": [
      "HMM for 'TOTAL':\n",
      "Mean Likelihood: -690.3241616531702, Std: 35.46315444607586\n"
     ]
    }
   ],
   "source": [
    "# Print results\n",
    "print(\"HMM for 'TOTAL':\")\n",
    "print(f\"Mean Likelihood: {(metrics_o1+metrics_o).mean(axis=0)[0]}, Std: {(metrics_o1+metrics_o).std(axis=0)[0]}\")"
   ]
  },
  {
   "cell_type": "code",
   "execution_count": null,
   "metadata": {},
   "outputs": [],
   "source": []
  },
  {
   "cell_type": "code",
   "execution_count": 16,
   "metadata": {},
   "outputs": [
    {
     "data": {
      "text/plain": [
       "[(-219.05452808297858, 150.35955928776133, 0),\n",
       " (-219.05492703215586, 150.18980931845283, 0),\n",
       " (-219.0548730693727, 150.2004621539697, 0),\n",
       " (-287.3746281808993, 184.7417455952218, 0),\n",
       " (-219.05491616538922, 150.19192819633142, 0),\n",
       " (-219.0549187021278, 150.1914319678539, 0),\n",
       " (-287.3798447530611, 184.72831440281823, 0),\n",
       " (-287.3803907534015, 184.72538459829843, 0),\n",
       " (-287.380146210545, 184.72798572588462, 0),\n",
       " (-219.05487539898758, 150.20003184801757, 0)]"
      ]
     },
     "execution_count": 16,
     "metadata": {},
     "output_type": "execute_result"
    }
   ],
   "source": [
    "results_o"
   ]
  },
  {
   "cell_type": "code",
   "execution_count": null,
   "metadata": {},
   "outputs": [],
   "source": []
  },
  {
   "cell_type": "code",
   "execution_count": null,
   "metadata": {},
   "outputs": [],
   "source": []
  },
  {
   "cell_type": "code",
   "execution_count": null,
   "metadata": {},
   "outputs": [],
   "source": []
  },
  {
   "cell_type": "code",
   "execution_count": null,
   "metadata": {},
   "outputs": [],
   "source": []
  },
  {
   "cell_type": "markdown",
   "metadata": {},
   "source": [
    "# SINGLE MODEL "
   ]
  },
  {
   "cell_type": "code",
   "execution_count": 17,
   "metadata": {},
   "outputs": [
    {
     "ename": "ValueError",
     "evalue": "not enough values to unpack (expected 4, got 3)",
     "output_type": "error",
     "traceback": [
      "\u001b[1;31m---------------------------------------------------------------------------\u001b[0m",
      "\u001b[1;31mValueError\u001b[0m                                Traceback (most recent call last)",
      "Cell \u001b[1;32mIn[17], line 1\u001b[0m\n\u001b[1;32m----> 1\u001b[0m observations_o \u001b[38;5;241m=\u001b[39m [np\u001b[38;5;241m.\u001b[39mconcatenate([o\u001b[38;5;241m.\u001b[39mnumpy()\u001b[38;5;241m.\u001b[39mreshape(\u001b[38;5;241m-\u001b[39m\u001b[38;5;241m1\u001b[39m, \u001b[38;5;241m1\u001b[39m),o1\u001b[38;5;241m.\u001b[39mnumpy()\u001b[38;5;241m.\u001b[39mreshape(\u001b[38;5;241m-\u001b[39m\u001b[38;5;241m1\u001b[39m, \u001b[38;5;241m1\u001b[39m)], axis\u001b[38;5;241m=\u001b[39m\u001b[38;5;241m1\u001b[39m) \u001b[38;5;28;01mfor\u001b[39;00m o, o1, _,_ \u001b[38;5;129;01min\u001b[39;00m pred1]\n",
      "\u001b[1;31mValueError\u001b[0m: not enough values to unpack (expected 4, got 3)"
     ]
    }
   ],
   "source": [
    "observations_o = [np.concatenate([o.numpy().reshape(-1, 1),o1.numpy().reshape(-1, 1)], axis=1) for o, o1, _,_ in pred1]\n",
    "# observations_o = [np.concatenate([o.numpy().reshape(-1, 1),o1.numpy().reshape(-1, 1)], axis=1) for o, o1, _,_ in pred1]"
   ]
  },
  {
   "cell_type": "code",
   "execution_count": null,
   "metadata": {},
   "outputs": [],
   "source": [
    "# Repeat training multiple times and collect metrics\n",
    "import time\n",
    "n_repeats = 10\n",
    "results_o = []\n",
    "results_o1 = []\n",
    "time_o = []\n",
    "time_o1 = []\n",
    "\n",
    "for _ in range(n_repeats):\n",
    "    start_time = time.time()\n",
    "    model_o, mean_likelihood_o, std_likelihood_o, filtered_states_o = train_hmm_and_evaluate(observations_o, n_components=4)\n",
    "    hmm_means = model_o.means_\n",
    "    filtered_states_o = rearrange_states(filtered_states_o, hmm_means)\n",
    "    elapsed_time = time.time() - start_time\n",
    "    error_o = 0\n",
    "    results_o.append((mean_likelihood_o, std_likelihood_o, error_o))\n",
    "    time_o.append(elapsed_time)\n",
    "\n",
    "    start_time = time.time()\n",
    "\n",
    "# Calculate mean and standard deviation for metrics\n",
    "metrics_o = np.array(results_o)\n",
    "\n",
    "\n",
    "mean_metrics_o = metrics_o.mean(axis=0)\n",
    "std_metrics_o = metrics_o.std(axis=0)\n",
    "\n",
    "\n",
    "# Calculate mean and standard deviation for computation time\n",
    "mean_time_o = np.mean(time_o)\n",
    "std_time_o = np.std(time_o)\n",
    "\n",
    "\n",
    "# Print results\n",
    "print(\"HMM for 'o':\")\n",
    "print(f\"Mean Likelihood: {mean_metrics_o[0]}, Std: {std_metrics_o[0]}\")\n",
    "print(f\"Mean Filtration Error: {mean_metrics_o[2]}, Std: {std_metrics_o[2]}\")\n",
    "print(f\"Mean Computation Time: {mean_time_o}s, Std: {std_time_o}s\\n\")\n"
   ]
  },
  {
   "cell_type": "code",
   "execution_count": null,
   "metadata": {},
   "outputs": [],
   "source": []
  },
  {
   "cell_type": "code",
   "execution_count": null,
   "metadata": {},
   "outputs": [],
   "source": [
    "# Repeat training multiple times and collect metrics\n",
    "import time\n",
    "n_repeats = 10\n",
    "results_o = []\n",
    "results_o1 = []\n",
    "time_o = []\n",
    "time_o1 = []\n",
    "\n",
    "for _ in range(n_repeats):\n",
    "    start_time = time.time()\n",
    "    model_o, mean_likelihood_o, std_likelihood_o, filtered_states_o = train_hmm_and_evaluate(observations_o, n_components=8)\n",
    "    hmm_means = model_o.means_\n",
    "    filtered_states_o = rearrange_states(filtered_states_o, hmm_means)\n",
    "    elapsed_time = time.time() - start_time\n",
    "    error_o = 0\n",
    "    results_o.append((mean_likelihood_o, std_likelihood_o, error_o))\n",
    "    time_o.append(elapsed_time)\n",
    "\n",
    "    start_time = time.time()\n",
    "\n",
    "# Calculate mean and standard deviation for metrics\n",
    "metrics_o = np.array(results_o)\n",
    "\n",
    "\n",
    "mean_metrics_o = metrics_o.mean(axis=0)\n",
    "std_metrics_o = metrics_o.std(axis=0)\n",
    "\n",
    "\n",
    "# Calculate mean and standard deviation for computation time\n",
    "mean_time_o = np.mean(time_o)\n",
    "std_time_o = np.std(time_o)\n",
    "\n",
    "\n",
    "# Print results\n",
    "print(\"HMM for 'o':\")\n",
    "print(f\"Mean Likelihood: {mean_metrics_o[0]}, Std: {std_metrics_o[0]}\")\n",
    "print(f\"Mean Filtration Error: {mean_metrics_o[2]}, Std: {std_metrics_o[2]}\")\n",
    "print(f\"Mean Computation Time: {mean_time_o}s, Std: {std_time_o}s\\n\")\n"
   ]
  },
  {
   "cell_type": "code",
   "execution_count": null,
   "metadata": {},
   "outputs": [],
   "source": []
  },
  {
   "cell_type": "code",
   "execution_count": null,
   "metadata": {},
   "outputs": [],
   "source": [
    "# Repeat training multiple times and collect metrics\n",
    "import time\n",
    "n_repeats = 10\n",
    "results_o = []\n",
    "results_o1 = []\n",
    "time_o = []\n",
    "time_o1 = []\n",
    "\n",
    "for _ in range(n_repeats):\n",
    "    start_time = time.time()\n",
    "    model_o, mean_likelihood_o, std_likelihood_o, filtered_states_o = train_hmm_and_evaluate(observations_o, n_components=16)\n",
    "    hmm_means = model_o.means_\n",
    "    filtered_states_o = rearrange_states(filtered_states_o, hmm_means)\n",
    "    elapsed_time = time.time() - start_time\n",
    "    error_o = 0\n",
    "    results_o.append((mean_likelihood_o, std_likelihood_o, error_o))\n",
    "    time_o.append(elapsed_time)\n",
    "\n",
    "    start_time = time.time()\n",
    "\n",
    "# Calculate mean and standard deviation for metrics\n",
    "metrics_o = np.array(results_o)\n",
    "\n",
    "\n",
    "mean_metrics_o = metrics_o.mean(axis=0)\n",
    "std_metrics_o = metrics_o.std(axis=0)\n",
    "\n",
    "\n",
    "# Calculate mean and standard deviation for computation time\n",
    "mean_time_o = np.mean(time_o)\n",
    "std_time_o = np.std(time_o)\n",
    "\n",
    "\n",
    "# Print results\n",
    "print(\"HMM for 'o':\")\n",
    "print(f\"Mean Likelihood: {mean_metrics_o[0]}, Std: {std_metrics_o[0]}\")\n",
    "print(f\"Mean Filtration Error: {mean_metrics_o[2]}, Std: {std_metrics_o[2]}\")\n",
    "print(f\"Mean Computation Time: {mean_time_o}s, Std: {std_time_o}s\\n\")\n"
   ]
  },
  {
   "cell_type": "code",
   "execution_count": null,
   "metadata": {},
   "outputs": [],
   "source": []
  },
  {
   "cell_type": "code",
   "execution_count": null,
   "metadata": {},
   "outputs": [],
   "source": []
  },
  {
   "cell_type": "code",
   "execution_count": null,
   "metadata": {},
   "outputs": [],
   "source": []
  },
  {
   "cell_type": "code",
   "execution_count": null,
   "metadata": {},
   "outputs": [],
   "source": []
  },
  {
   "cell_type": "code",
   "execution_count": null,
   "metadata": {},
   "outputs": [],
   "source": []
  },
  {
   "cell_type": "code",
   "execution_count": null,
   "metadata": {},
   "outputs": [],
   "source": []
  }
 ],
 "metadata": {
  "kernelspec": {
   "display_name": "Python 3 (ipykernel)",
   "language": "python",
   "name": "python3"
  },
  "language_info": {
   "codemirror_mode": {
    "name": "ipython",
    "version": 3
   },
   "file_extension": ".py",
   "mimetype": "text/x-python",
   "name": "python",
   "nbconvert_exporter": "python",
   "pygments_lexer": "ipython3",
   "version": "3.12.7"
  }
 },
 "nbformat": 4,
 "nbformat_minor": 4
}
